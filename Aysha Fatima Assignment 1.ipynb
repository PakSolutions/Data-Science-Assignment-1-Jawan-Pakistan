{
 "cells": [
  {
   "cell_type": "code",
   "execution_count": 25,
   "id": "73f28e9c",
   "metadata": {},
   "outputs": [
    {
     "name": "stdout",
     "output_type": "stream",
     "text": [
      "Twinkle, twinkle, little star, \n",
      "\t How I wonder what you are! \n",
      "\t\t Up above the world so high \n",
      "\t\t Like a diamond in the sky. \n",
      "Twinkle, twinkle, little star, \n",
      "\t How I wonder what you are\n"
     ]
    }
   ],
   "source": [
    "//Question1: Print the following Text\n",
    "print(\"Twinkle, twinkle, little star, \\n\\t How I wonder what you are! \\n\\t\\t Up above the world so high \\n\\t\\t Like a diamond in the sky. \\nTwinkle, twinkle, little star, \\n\\t How I wonder what you are\")\n"
   ]
  },
  {
   "cell_type": "code",
   "execution_count": 13,
   "id": "aecf7438",
   "metadata": {},
   "outputs": [
    {
     "name": "stdout",
     "output_type": "stream",
     "text": [
      "Python Version currently using\n",
      "3.9.7 (default, Sep 16 2021, 16:59:28) [MSC v.1916 64 bit (AMD64)]\n",
      "Detailed information\n",
      "sys.version_info(major=3, minor=9, micro=7, releaselevel='final', serial=0)\n"
     ]
    }
   ],
   "source": [
    "//Question2: Write a program to get python version\n",
    "import sys\n",
    "print(\"Python Version currently using: \")\n",
    "print(sys.version)\n",
    "print(\"Detailed information: \")\n",
    "print(sys.version_info)"
   ]
  },
  {
   "cell_type": "code",
   "execution_count": 23,
   "id": "ed792f9c",
   "metadata": {},
   "outputs": [
    {
     "name": "stdout",
     "output_type": "stream",
     "text": [
      "Current date and time is: \n",
      "2022-01-10 23:09:46\n"
     ]
    }
   ],
   "source": [
    "//Question2: Write a program to get current date and time\n",
    "import datetime\n",
    "print(\"Current date and time is: \")\n",
    "current=datetime.datetime.now()\n",
    "print(current.strftime(\"%Y-%m-%d %H:%M:%S\"))\n"
   ]
  },
  {
   "cell_type": "code",
   "execution_count": 34,
   "id": "55e91ec6",
   "metadata": {},
   "outputs": [
    {
     "name": "stdout",
     "output_type": "stream",
     "text": [
      "Enter the Radius of a circle: \n",
      "4\n",
      "50.24\n"
     ]
    }
   ],
   "source": [
    "\n",
    "print(\"Enter the Radius of a circle: \")\n",
    "rad=int(input())\n",
    "pi=3.14\n",
    "area=pi*rad*rad\n",
    "print(area)"
   ]
  },
  {
   "cell_type": "code",
   "execution_count": 37,
   "id": "77559ed7",
   "metadata": {},
   "outputs": [
    {
     "name": "stdout",
     "output_type": "stream",
     "text": [
      "Enter your first name: Aysha\n",
      "Enter your last name: Fatima\n",
      "Fatima Aysha\n",
      "ahsyA amitaF\n"
     ]
    }
   ],
   "source": [
    "firstname = input(\"Enter your first name: \")\n",
    "lastname = input(\"Enter your last name: \")\n",
    "print(lastname+\" \"+firstname)\n",
    "print(firstname[::-1]+\" \"+lastname[::-1])"
   ]
  },
  {
   "cell_type": "code",
   "execution_count": 41,
   "id": "43539e00",
   "metadata": {},
   "outputs": [
    {
     "name": "stdout",
     "output_type": "stream",
     "text": [
      "Enter 1st number:6\n",
      "Enter 2nd number:8\n",
      "14\n"
     ]
    }
   ],
   "source": [
    "a=int(input(\"Enter 1st number:\"))\n",
    "b=int(input(\"Enter 2nd number:\"))\n",
    "print(a+b)\n"
   ]
  }
 ],
 "metadata": {
  "kernelspec": {
   "display_name": "Python 3 (ipykernel)",
   "language": "python",
   "name": "python3"
  },
  "language_info": {
   "codemirror_mode": {
    "name": "ipython",
    "version": 3
   },
   "file_extension": ".py",
   "mimetype": "text/x-python",
   "name": "python",
   "nbconvert_exporter": "python",
   "pygments_lexer": "ipython3",
   "version": "3.9.7"
  }
 },
 "nbformat": 4,
 "nbformat_minor": 5
}
